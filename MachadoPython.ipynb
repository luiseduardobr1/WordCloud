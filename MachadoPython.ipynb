{
 "cells": [
  {
   "cell_type": "markdown",
   "metadata": {},
   "source": [
    "## Criando a máscara"
   ]
  },
  {
   "cell_type": "code",
   "execution_count": 4,
   "metadata": {
    "ExecuteTime": {
     "end_time": "2020-06-08T16:59:24.199178Z",
     "start_time": "2020-06-08T16:59:21.174005Z"
    }
   },
   "outputs": [
    {
     "data": {
      "text/plain": [
       "True"
      ]
     },
     "execution_count": 4,
     "metadata": {},
     "output_type": "execute_result"
    }
   ],
   "source": [
    "import cv2\n",
    "import numpy as np\n",
    "\n",
    "# Open image\n",
    "img = cv2.imread('machado_burned.jpg')\n",
    "\n",
    "# Convert to grayscale\n",
    "gray = cv2.cvtColor(img, cv2.COLOR_BGR2GRAY)\n",
    "\n",
    "# Get width and height\n",
    "rows, columns = gray.shape\n",
    "\n",
    "# Change pixel color \n",
    "for row in range(rows):\n",
    "    for col in range(columns):\n",
    "        if gray[row, col] < 240:\n",
    "            gray[row, col] = 0\n",
    "\n",
    "\n",
    "# Show final image\n",
    "cv2.imshow('Machado', gray)\n",
    "\n",
    "# Wait to press '0' to close\n",
    "cv2.waitKey(0)\n",
    "cv2.destroyAllWindows()\n",
    "\n",
    "# Save final image\n",
    "cv2.imwrite('machado_mask.jpg', gray)"
   ]
  },
  {
   "cell_type": "markdown",
   "metadata": {},
   "source": [
    "## Analisando a frequência das palavras"
   ]
  },
  {
   "cell_type": "code",
   "execution_count": null,
   "metadata": {},
   "outputs": [],
   "source": [
    "from nltk.corpus import PlaintextCorpusReader\n",
    "from collections import Counter\n",
    "from nltk.corpus import stopwords \n",
    "from nltk.tokenize import word_tokenize \n",
    "import nltk\n",
    "import string  \n",
    "import re\n",
    "import unicodedata\n",
    "\n",
    "# Get all words\n",
    "wordlists = PlaintextCorpusReader('machado', '.*', encoding='latin-1')\n",
    "print(wordlists.fileids())\n",
    "\n",
    "# Stopwords\n",
    "stop_words_br = stopwords.words('portuguese')\n",
    "stop_words_en = stopwords.words('english')\n",
    "\n",
    "\n",
    "# Filter\n",
    "long_long_text = ''  \n",
    "filtered_sentence = [w.lower() for w in wordlists.words() \n",
    "                     if ((w.lower() not in stop_words_br) \n",
    "                        and (w not in string.punctuation) \n",
    "                        and (w.lower() not in stop_words_en) \n",
    "                        and (w.isnumeric() == False)\n",
    "                        and (len(w)>=3)\n",
    "                        and (w.lower() not in ['.»--«', ',--', 'elle', 'elles', 'ella', '--', '...',\n",
    "                                              'ellas']))]\n",
    "\n",
    "final_text = ' '.join(filtered_sentence)\n",
    "\n",
    "# Final Filter\n",
    "for palavra in ['--', '_', '...', '.','-', 'capitulo', 'cousa', 'dous', 'tal', 'della', 'delle',\n",
    "               'alli','emfim']:\n",
    "    final_text = final_text.replace(palavra, '')\n",
    "\n",
    "\n",
    "teste = word_tokenize(final_text)\n",
    "Counter(teste).most_common()"
   ]
  },
  {
   "cell_type": "markdown",
   "metadata": {},
   "source": [
    "## Word Cloud"
   ]
  },
  {
   "cell_type": "code",
   "execution_count": null,
   "metadata": {},
   "outputs": [],
   "source": [
    "from wordcloud import WordCloud, STOPWORDS \n",
    "import matplotlib.pyplot as plt \n",
    "import numpy as np\n",
    "from PIL import Image\n",
    "\n",
    "# Máscara\n",
    "machado_mask = np.array(Image.open(\"machado_mask.jpg\"))\n",
    "\n",
    "#---WITHOUT MASK---\n",
    "# wordcloud = WordCloud(width = 1500, height = 800, \n",
    "#                 background_color ='white', \n",
    "#                 min_font_size = 10).generate(final_text) \n",
    "\n",
    "# Create word cloud\n",
    "wordcloud = WordCloud(background_color=\"white\", max_words=2000, mask=machado_mask).generate(final_text) \n",
    "\n",
    "\n",
    "#---WITHOUT MASK---\n",
    "# plt.figure(figsize = (15, 8), facecolor = None) \n",
    "# plt.imshow(wordcloud) \n",
    "# plt.axis(\"off\") \n",
    "# plt.tight_layout(pad = 0) \n",
    "  \n",
    "# plt.show() \n",
    "\n",
    "# Save output\n",
    "wordcloud.to_file(\"machado_wordcloud.jpg\")\n",
    "\n",
    "# show\n",
    "plt.figure(figsize = (10, 10), facecolor = None) \n",
    "plt.imshow(wordcloud)\n",
    "plt.axis(\"off\")\n",
    "plt.figure()\n",
    "plt.show()"
   ]
  }
 ],
 "metadata": {
  "hide_input": false,
  "kernelspec": {
   "display_name": "Python 3",
   "language": "python",
   "name": "python3"
  },
  "language_info": {
   "codemirror_mode": {
    "name": "ipython",
    "version": 3
   },
   "file_extension": ".py",
   "mimetype": "text/x-python",
   "name": "python",
   "nbconvert_exporter": "python",
   "pygments_lexer": "ipython3",
   "version": "3.7.6"
  },
  "toc": {
   "base_numbering": 1,
   "nav_menu": {},
   "number_sections": true,
   "sideBar": true,
   "skip_h1_title": false,
   "title_cell": "Table of Contents",
   "title_sidebar": "Contents",
   "toc_cell": false,
   "toc_position": {},
   "toc_section_display": true,
   "toc_window_display": false
  },
  "varInspector": {
   "cols": {
    "lenName": 16,
    "lenType": 16,
    "lenVar": 40
   },
   "kernels_config": {
    "python": {
     "delete_cmd_postfix": "",
     "delete_cmd_prefix": "del ",
     "library": "var_list.py",
     "varRefreshCmd": "print(var_dic_list())"
    },
    "r": {
     "delete_cmd_postfix": ") ",
     "delete_cmd_prefix": "rm(",
     "library": "var_list.r",
     "varRefreshCmd": "cat(var_dic_list()) "
    }
   },
   "types_to_exclude": [
    "module",
    "function",
    "builtin_function_or_method",
    "instance",
    "_Feature"
   ],
   "window_display": false
  }
 },
 "nbformat": 4,
 "nbformat_minor": 4
}
